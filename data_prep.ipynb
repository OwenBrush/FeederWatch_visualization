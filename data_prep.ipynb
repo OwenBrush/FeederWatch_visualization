{
 "cells": [
  {
   "cell_type": "code",
   "execution_count": 2,
   "metadata": {},
   "outputs": [],
   "source": [
    "import pandas as pd\n",
    "import numpy as np"
   ]
  },
  {
   "cell_type": "markdown",
   "metadata": {},
   "source": [
    "### Compile all data"
   ]
  },
  {
   "cell_type": "code",
   "execution_count": 3,
   "metadata": {},
   "outputs": [
    {
     "data": {
      "text/html": [
       "<div>\n",
       "<style scoped>\n",
       "    .dataframe tbody tr th:only-of-type {\n",
       "        vertical-align: middle;\n",
       "    }\n",
       "\n",
       "    .dataframe tbody tr th {\n",
       "        vertical-align: top;\n",
       "    }\n",
       "\n",
       "    .dataframe thead th {\n",
       "        text-align: right;\n",
       "    }\n",
       "</style>\n",
       "<table border=\"1\" class=\"dataframe\">\n",
       "  <thead>\n",
       "    <tr style=\"text-align: right;\">\n",
       "      <th></th>\n",
       "      <th>LOC_ID</th>\n",
       "      <th>LATITUDE</th>\n",
       "      <th>LONGITUDE</th>\n",
       "      <th>SUBNATIONAL1_CODE</th>\n",
       "      <th>ENTRY_TECHNIQUE</th>\n",
       "      <th>SUB_ID</th>\n",
       "      <th>OBS_ID</th>\n",
       "      <th>Month</th>\n",
       "      <th>Day</th>\n",
       "      <th>Year</th>\n",
       "      <th>...</th>\n",
       "      <th>species_code</th>\n",
       "      <th>how_many</th>\n",
       "      <th>valid</th>\n",
       "      <th>reviewed</th>\n",
       "      <th>day1_am</th>\n",
       "      <th>day1_pm</th>\n",
       "      <th>day2_am</th>\n",
       "      <th>day2_pm</th>\n",
       "      <th>effort_hrs_atleast</th>\n",
       "      <th>snow_dep_atleast</th>\n",
       "    </tr>\n",
       "  </thead>\n",
       "  <tbody>\n",
       "    <tr>\n",
       "      <th>0</th>\n",
       "      <td>L20416</td>\n",
       "      <td>35.02262</td>\n",
       "      <td>-93.47239</td>\n",
       "      <td>US-AR</td>\n",
       "      <td>POSTCODE LAT/LONG LOOKUP</td>\n",
       "      <td>S338425</td>\n",
       "      <td>OBS4297367</td>\n",
       "      <td>12</td>\n",
       "      <td>17</td>\n",
       "      <td>1994</td>\n",
       "      <td>...</td>\n",
       "      <td>NaN</td>\n",
       "      <td>NaN</td>\n",
       "      <td>NaN</td>\n",
       "      <td>NaN</td>\n",
       "      <td>NaN</td>\n",
       "      <td>NaN</td>\n",
       "      <td>NaN</td>\n",
       "      <td>NaN</td>\n",
       "      <td>NaN</td>\n",
       "      <td>NaN</td>\n",
       "    </tr>\n",
       "  </tbody>\n",
       "</table>\n",
       "<p>1 rows × 40 columns</p>\n",
       "</div>"
      ],
      "text/plain": [
       "   LOC_ID  LATITUDE  LONGITUDE SUBNATIONAL1_CODE           ENTRY_TECHNIQUE  \\\n",
       "0  L20416  35.02262  -93.47239             US-AR  POSTCODE LAT/LONG LOOKUP   \n",
       "\n",
       "    SUB_ID      OBS_ID  Month  Day  Year  ... species_code how_many  valid  \\\n",
       "0  S338425  OBS4297367     12   17  1994  ...          NaN      NaN    NaN   \n",
       "\n",
       "   reviewed  day1_am  day1_pm  day2_am  day2_pm  effort_hrs_atleast  \\\n",
       "0       NaN      NaN      NaN      NaN      NaN                 NaN   \n",
       "\n",
       "   snow_dep_atleast  \n",
       "0               NaN  \n",
       "\n",
       "[1 rows x 40 columns]"
      ]
     },
     "execution_count": 3,
     "metadata": {},
     "output_type": "execute_result"
    }
   ],
   "source": [
    "data = map(pd.read_csv, [   'data\\PFW_1988_1995_public.csv', \n",
    "                            'data\\PFW_1996_2000_public.csv',\n",
    "                            'data\\PFW_2001_2005_public.csv',\n",
    "                            'data\\PFW_2006_2010_public.csv',\n",
    "                            'data\\PFW_2011_2015_public.csv',\n",
    "                            'data\\PFW_2016_2020_public.csv',\n",
    "                            'data\\PFW_2021_public.csv'])\n",
    "df = pd.concat(data, ignore_index=True)\n",
    "df.head(1)"
   ]
  },
  {
   "cell_type": "markdown",
   "metadata": {},
   "source": [
    "### Note size of dataset"
   ]
  },
  {
   "cell_type": "code",
   "execution_count": 4,
   "metadata": {},
   "outputs": [
    {
     "data": {
      "text/plain": [
       "(36971663, 40)"
      ]
     },
     "execution_count": 4,
     "metadata": {},
     "output_type": "execute_result"
    }
   ],
   "source": [
    "df.shape"
   ]
  },
  {
   "cell_type": "code",
   "execution_count": 5,
   "metadata": {},
   "outputs": [
    {
     "data": {
      "text/plain": [
       "179099099.0"
      ]
     },
     "execution_count": 5,
     "metadata": {},
     "output_type": "execute_result"
    }
   ],
   "source": [
    "df['HOW_MANY'].sum() + df['how_many'].sum()"
   ]
  },
  {
   "cell_type": "markdown",
   "metadata": {},
   "source": [
    "### Replace nulls in duplicate columns"
   ]
  },
  {
   "cell_type": "code",
   "execution_count": 6,
   "metadata": {},
   "outputs": [],
   "source": [
    "df.loc[df['LATITUDE'].isna(), 'LATITUDE'] =  df['latitude'] \n",
    "df.loc[df['LONGITUDE'].isna(), 'LONGITUDE'] =  df['longitude']\n",
    "df.loc[df['SPECIES_CODE'].isna(), 'SPECIES_CODE'] =  df['species_code']\n",
    "df.loc[df['HOW_MANY'].isna(), 'HOW_MANY'] =  df['how_many']    \n"
   ]
  },
  {
   "cell_type": "markdown",
   "metadata": {},
   "source": [
    "### Set all days to 1 and create date column so data can be grouped by year and month"
   ]
  },
  {
   "cell_type": "code",
   "execution_count": 7,
   "metadata": {},
   "outputs": [],
   "source": [
    "df['Day'] = 1\n",
    "df['DATE'] = pd.to_datetime(df[['Year','Month', 'Day']])"
   ]
  },
  {
   "cell_type": "markdown",
   "metadata": {},
   "source": [
    "### Isolate relevant columns"
   ]
  },
  {
   "cell_type": "code",
   "execution_count": 8,
   "metadata": {},
   "outputs": [],
   "source": [
    "\n",
    "df = df[['DATE','SPECIES_CODE','LATITUDE','LONGITUDE','HOW_MANY']]"
   ]
  },
  {
   "cell_type": "markdown",
   "metadata": {},
   "source": [
    "### Drop data with null values"
   ]
  },
  {
   "cell_type": "code",
   "execution_count": 9,
   "metadata": {},
   "outputs": [
    {
     "data": {
      "text/plain": [
       "DATE              0\n",
       "SPECIES_CODE      0\n",
       "LATITUDE        254\n",
       "LONGITUDE       254\n",
       "HOW_MANY          0\n",
       "dtype: int64"
      ]
     },
     "execution_count": 9,
     "metadata": {},
     "output_type": "execute_result"
    }
   ],
   "source": [
    "df.isna().sum()\n"
   ]
  },
  {
   "cell_type": "code",
   "execution_count": 10,
   "metadata": {},
   "outputs": [],
   "source": [
    "df = df.dropna()"
   ]
  },
  {
   "cell_type": "markdown",
   "metadata": {},
   "source": [
    "### Round lattitude and longitude to make grouping easier"
   ]
  },
  {
   "cell_type": "code",
   "execution_count": 11,
   "metadata": {},
   "outputs": [],
   "source": [
    "df['LATITUDE'] = df['LATITUDE'].round(0)\n",
    "df['LONGITUDE'] = df['LONGITUDE'].round(0)"
   ]
  },
  {
   "cell_type": "markdown",
   "metadata": {},
   "source": [
    "### Get common names from dictionary"
   ]
  },
  {
   "cell_type": "code",
   "execution_count": 47,
   "metadata": {},
   "outputs": [],
   "source": [
    "species_keys = pd.read_excel('data/metadata/FeederWatch_Data_Dictionary.xlsx',sheet_name=\"Species Codes\", skiprows=1)\n",
    "species_keys = species_keys[['REPORT_AS','PRIMARY_COM_NAME']]"
   ]
  },
  {
   "cell_type": "markdown",
   "metadata": {},
   "source": [
    "### Remove variations"
   ]
  },
  {
   "cell_type": "code",
   "execution_count": 48,
   "metadata": {},
   "outputs": [],
   "source": [
    "species_keys['PRIMARY_COM_NAME'] = species_keys['PRIMARY_COM_NAME'].str.replace(r\"\\(.*\\)\",\"\",regex=True)\n",
    "species_keys['PRIMARY_COM_NAME'] = species_keys['PRIMARY_COM_NAME'].str.strip()\n",
    "species_keys.drop_duplicates(inplace=True)"
   ]
  },
  {
   "cell_type": "markdown",
   "metadata": {},
   "source": [
    "### Merge common names with dataframe"
   ]
  },
  {
   "cell_type": "code",
   "execution_count": 54,
   "metadata": {},
   "outputs": [],
   "source": [
    "df = pd.merge(df,species_keys, left_on='SPECIES_CODE', right_on='REPORT_AS', how='left')"
   ]
  },
  {
   "cell_type": "markdown",
   "metadata": {},
   "source": [
    "### Remove key columns"
   ]
  },
  {
   "cell_type": "code",
   "execution_count": 55,
   "metadata": {},
   "outputs": [],
   "source": [
    "df.drop(['SPECIES_CODE','REPORT_AS'], axis=1, inplace=True)"
   ]
  },
  {
   "cell_type": "markdown",
   "metadata": {},
   "source": [
    "### Group birds counted by day and location"
   ]
  },
  {
   "cell_type": "code",
   "execution_count": 57,
   "metadata": {},
   "outputs": [],
   "source": [
    "grouped_df = df.groupby(['DATE','PRIMARY_COM_NAME','LATITUDE','LONGITUDE']).sum()"
   ]
  },
  {
   "cell_type": "code",
   "execution_count": 58,
   "metadata": {},
   "outputs": [
    {
     "data": {
      "text/plain": [
       "177178141.0"
      ]
     },
     "execution_count": 58,
     "metadata": {},
     "output_type": "execute_result"
    }
   ],
   "source": [
    "grouped_df['HOW_MANY'].sum()"
   ]
  },
  {
   "cell_type": "code",
   "execution_count": 60,
   "metadata": {},
   "outputs": [
    {
     "data": {
      "text/plain": [
       "(3271194, 1)"
      ]
     },
     "execution_count": 60,
     "metadata": {},
     "output_type": "execute_result"
    }
   ],
   "source": [
    "grouped_df.shape"
   ]
  },
  {
   "cell_type": "code",
   "execution_count": 61,
   "metadata": {},
   "outputs": [],
   "source": [
    "grouped_df.to_csv('bird_data.csv')"
   ]
  },
  {
   "cell_type": "code",
   "execution_count": null,
   "metadata": {},
   "outputs": [],
   "source": []
  }
 ],
 "metadata": {
  "kernelspec": {
   "display_name": "Python 3.8.8 ('base')",
   "language": "python",
   "name": "python3"
  },
  "language_info": {
   "codemirror_mode": {
    "name": "ipython",
    "version": 3
   },
   "file_extension": ".py",
   "mimetype": "text/x-python",
   "name": "python",
   "nbconvert_exporter": "python",
   "pygments_lexer": "ipython3",
   "version": "3.8.8"
  },
  "orig_nbformat": 4,
  "vscode": {
   "interpreter": {
    "hash": "2c451ce95fe964da0234b095afa66e059330c9064747f29d149596f3945acca6"
   }
  }
 },
 "nbformat": 4,
 "nbformat_minor": 2
}
